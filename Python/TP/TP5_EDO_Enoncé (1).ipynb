{
 "cells": [
  {
   "cell_type": "markdown",
   "metadata": {},
   "source": [
    "# TP5 : Résolution numérique d'équations différentielles ordinaires"
   ]
  },
  {
   "cell_type": "markdown",
   "metadata": {},
   "source": [
    "# Objectifs du TP"
   ]
  },
  {
   "cell_type": "markdown",
   "metadata": {},
   "source": [
    "- Résolution numérique des problèmes de Cauchy\n",
    "- Implémenter  les différentes méthodes de résolutions  des équations différentielles ordinaires (EDO), vues en cours de méthodes numériques pour l'ingénieur.\n",
    "- Comparer ces méthodes."
   ]
  },
  {
   "cell_type": "markdown",
   "metadata": {},
   "source": [
    "# Introduction"
   ]
  },
  {
   "cell_type": "markdown",
   "metadata": {},
   "source": [
    "Les méthodes numériques employées pour résoudre les équations différentielles sont des méthodes approximatives basées sur la discrétisation de la variable du temps ainsi que sur l'utilisation de différences finies pour approcher les dérivées et les integrales. Le problème se ramène alors à un calcul itératif, facile à automatiser à l'aide d'un programme informatique."
   ]
  },
  {
   "cell_type": "markdown",
   "metadata": {},
   "source": [
    "Pour effectuer ce calcul numérique, l'utilisateur doit disposer :\n",
    "\n"
   ]
  },
  {
   "cell_type": "markdown",
   "metadata": {},
   "source": [
    "- de la durée $T$ de la simulation numérique.\n",
    "- des conditions initiales."
   ]
  },
  {
   "cell_type": "markdown",
   "metadata": {},
   "source": [
    "Dans ce cours on s'interesse  aux équations différentielles de  la forme:"
   ]
  },
  {
   "cell_type": "markdown",
   "metadata": {},
   "source": [
    "\\begin{equation*}\n",
    "x'=f(t,x)\n",
    "\\end{equation*}"
   ]
  },
  {
   "cell_type": "markdown",
   "metadata": {},
   "source": [
    " où $f$ est une fonction définie sur une partie $U$ de $\\mathbb{R}^{2}$, à valeurs dans $\\mathbb{R}$. "
   ]
  },
  {
   "cell_type": "markdown",
   "metadata": {},
   "source": [
    "Une solution de cette équation  est une fonction $x$ de classe $C^1$ définie sur un  intervalle $I$ de $\\mathbb{R}$ et à valeurs dans $\\mathbb{R}$ vérifiant:\n",
    "\n",
    "$$\\forall t\\in I, (t,x(t)) \\in U$$.\n"
   ]
  },
  {
   "cell_type": "markdown",
   "metadata": {},
   "source": [
    "et"
   ]
  },
  {
   "cell_type": "markdown",
   "metadata": {},
   "source": [
    "$$\\forall t\\in I, \\quad  x'(t)=f(t,x(t)).$$"
   ]
  },
  {
   "cell_type": "markdown",
   "metadata": {},
   "source": [
    "On ajoute à cette équation différentielle une condition initiale sous la forme d’un couple $(t_0, x_0)\\in U$\n",
    "et chercher à résoudre le problème de Cauchy (PC) suivant:"
   ]
  },
  {
   "cell_type": "markdown",
   "metadata": {},
   "source": [
    "\\begin{equation}\n",
    "\\label{PC}\n",
    "x'=f(t,x), \\quad x(t_0)=x_0.\n",
    "\\end{equation}"
   ]
  },
  {
   "cell_type": "markdown",
   "metadata": {},
   "source": [
    "Sous certaines conditions sur f , ce problème, dit de Cauchy,  admet une unique solution qui s'ecrit sous la forme:\n",
    "$$x(t)=x_0+\\int_{t_0}^{t}f(s,x(s)))ds,\\;\\forall t\\in I.$$"
   ]
  },
  {
   "cell_type": "markdown",
   "metadata": {},
   "source": [
    "Le but de ce TP est de chercher numériquement cette solution."
   ]
  },
  {
   "cell_type": "markdown",
   "metadata": {},
   "source": [
    "# Principe géneral de resolution des EDOs :"
   ]
  },
  {
   "cell_type": "markdown",
   "metadata": {},
   "source": [
    "Le principe général de toutes les méthodes numériques pour la résolution du problème de\n",
    "Cauchy est :"
   ]
  },
  {
   "cell_type": "markdown",
   "metadata": {},
   "source": [
    "1) Discrétiser l’intervalle $I=[t_0, t_0 + T]$, $T>0$, en le subdivisant en N sous intervalles de longueur $h=\\frac{T}{N}$ \n",
    "où $h$ désigne le pas de discrétisation uniforme."
   ]
  },
  {
   "cell_type": "markdown",
   "metadata": {},
   "source": [
    "2) Trouver une valeur approchée $x_n$ de la solution $x$ en chaque noeud $t_n = t_0 + nh$,\n",
    "$n \\in \\{0, · · · ,N\\}$."
   ]
  },
  {
   "cell_type": "markdown",
   "metadata": {},
   "source": [
    "# Méthodes d'Euler \n"
   ]
  },
  {
   "cell_type": "markdown",
   "metadata": {},
   "source": [
    "\n",
    "## Méthode  d'Euler explicite\n"
   ]
  },
  {
   "cell_type": "markdown",
   "metadata": {},
   "source": [
    "Le schéma d'Euler Explicite, pour la résolution du problème de Cauchy, défini plus haut, est donné par :"
   ]
  },
  {
   "cell_type": "markdown",
   "metadata": {},
   "source": [
    "\\begin{equation*}\n",
    "(S_1)\\; \\forall k \\in  \\{0,1,...,N-1\\}, \\quad x_{k+1}=x_k+h f(t_k,x_k)\n",
    "\\end{equation*}\n",
    "avec $x(t_0)=x_0$."
   ]
  },
  {
   "cell_type": "markdown",
   "metadata": {},
   "source": [
    "On peut noter dans ce cadre  que  seule la condition initiale  $x_0$ de cette méthode est une valeur exacte sûre, les autres valeurs sont calculées à partir de l’approximation précédente, ce qui peut conduire la valeur calculée $x_k$ à s’écarter\n",
    "de plus en plus de la valeur exacte $x(t_k)$. Ce  qui définie une particularité pour la méthode d'Euler."
   ]
  },
  {
   "cell_type": "markdown",
   "metadata": {},
   "source": [
    "Programmation : \n",
    "--     \n",
    "Rédiger une fonction `eulerexplicite(f, x0, t0,T,N)` qui prend en paramètres la fonction $f$, la valeur initiale $x_0$, la valeur initiale de la subdivision $t_0$, la largeur de l'intervalle $[t_0,t_0+T]$, $T>0$, sur lequel $x$ est définie,  et $N$ le nombre de sous-intervalles de  $[t_0,t_0+T]$ .   Cette fonction doit retourner  la liste des valeurs $[x_0,x_1, ... ,x_n]$ calculées par la méthode d’Euler explicite."
   ]
  },
  {
   "cell_type": "code",
   "execution_count": 1,
   "metadata": {},
   "outputs": [],
   "source": [
    "import numpy as np\n",
    "import matplotlib.pyplot as plt"
   ]
  },
  {
   "cell_type": "code",
   "execution_count": 2,
   "metadata": {},
   "outputs": [],
   "source": [
    "def eulerexplicite(f, x0, t0,T,N):\n",
    "    "
   ]
  },
  {
   "cell_type": "markdown",
   "metadata": {},
   "source": [
    "# Exercice 1"
   ]
  },
  {
   "cell_type": "markdown",
   "metadata": {},
   "source": [
    "On considère le problème de Cauchy suivant:"
   ]
  },
  {
   "cell_type": "markdown",
   "metadata": {},
   "source": [
    "\n",
    "$$ (E) \\quad x'(t)=-x(t), \\quad x(0)=1.$$\n"
   ]
  },
  {
   "cell_type": "markdown",
   "metadata": {},
   "source": [
    "Pour $N=100$, tracer sur un même graphe, la solution exacte de $(E)$ et la solution approchée par la méthode d'Euler Explicite. On considère $T=10$.  \n",
    "\n",
    "Tester pour des différentes valeurs de $N$ et observer les résultats."
   ]
  },
  {
   "cell_type": "markdown",
   "metadata": {},
   "source": [
    "***Remarque :*** On peut utiliser la fonction `odeint` du module `scipy` qui peut amener à une résolution numérique d'une équation différentielle donnée.\n"
   ]
  },
  {
   "cell_type": "code",
   "execution_count": 24,
   "metadata": {},
   "outputs": [],
   "source": [
    "N=100\n",
    "T=10\n"
   ]
  },
  {
   "cell_type": "code",
   "execution_count": null,
   "metadata": {
    "scrolled": true
   },
   "outputs": [],
   "source": [
    "t=............................\n",
    "plt.figure(figsize=(20, 10))\n",
    "plt.plot(...,...., 'b',...,..., 'r*-',linewidth=2,markersize=8)\n",
    "plt.title(\"solution de x'=x\",fontsize=30)\n",
    "plt.legend(('Solution exacte','Méthode d\\'Euler'),fontsize=30, loc='best')\n",
    "plt.xticks(fontsize=20)\n",
    "plt.yticks(fontsize=20)\n",
    "plt.show()"
   ]
  },
  {
   "cell_type": "code",
   "execution_count": null,
   "metadata": {},
   "outputs": [],
   "source": [
    "T = 10\n",
    "t0 = 0\n",
    "x0 = 1\n",
    "plt.figure(figsize=(20, 10))\n",
    "M = [10, 20, 50, 100]\n",
    "for N in M:\n",
    "    EE = .......................\n",
    "    t = ........................\n",
    "    plt.plot(..., ...., '*--', linewidth=2, markersize=8, label='Solution approchée (Méthode d\\'Euler, N='+str(N)+')')\n",
    "plt.plot(...,...., 'y', linewidth=4, markersize=8, label='Solution exacte')\n",
    "plt.title(\"Solution de l\\'équation : x'=-x\", fontsize=30)\n",
    "plt.legend()\n",
    "plt.xticks(fontsize=20)\n",
    "plt.yticks(fontsize=20)\n",
    "plt.show()\n"
   ]
  },
  {
   "cell_type": "markdown",
   "metadata": {},
   "source": [
    "## Méthode d'Euler implicite"
   ]
  },
  {
   "cell_type": "markdown",
   "metadata": {},
   "source": [
    "Le schéma d'Euler Explicite, pour la résolution du problème de Cauchy (PC) est donné par :  \n",
    "\\begin{equation*}\n",
    "(S_2)\\; \\forall k \\in  \\{0,1,...,N-1\\}, \\quad x_{k+1}=x_k+h f(t_{k+1},x_{k+1})\n",
    "\\end{equation*}\n",
    "avec $x(t_0)=x_0$."
   ]
  },
  {
   "cell_type": "markdown",
   "metadata": {},
   "source": [
    "On observe que cette relation ne procure pas une relation explicite de $x_{k+1}$ puisque ce terme est aussi présent\n",
    "dans le second membre. Pour calculer ce terme il est souvent nécessaire de coupler cette méthode à une autre méthode\n",
    " numérique telle que la méthode de dichotomie, Newton, Euler  explicite,... Dans ce qui suit, nous adoptons la méthode d'Euler explicite. La démarche comporte deux étapes:\n"
   ]
  },
  {
   "cell_type": "markdown",
   "metadata": {},
   "source": [
    "1) Approcher $x_{k+1}$ par la méthode d’Euler explicite comme suit :"
   ]
  },
  {
   "cell_type": "markdown",
   "metadata": {},
   "source": [
    "$$ x_{k+1} = x_k + hf(t_k, x_k)      .       $$"
   ]
  },
  {
   "cell_type": "markdown",
   "metadata": {},
   "source": [
    "2) Remplacer $x_{k+1}$ intervenue dans $f(t_{k+1}, x_{k+1})$ par son approximation trouvée dans la première étape."
   ]
  },
  {
   "cell_type": "markdown",
   "metadata": {},
   "source": [
    "Le schéma explicite ainsi obtenu est le suivant:"
   ]
  },
  {
   "cell_type": "markdown",
   "metadata": {},
   "source": [
    "$\\displaystyle p_1 = f( t_k,x_k),$  \n",
    "        $\\displaystyle p_2 = f( t_k+h,x_k + h p_1 )$  \n",
    "        $x_0$ donnée\n",
    "        "
   ]
  },
  {
   "cell_type": "markdown",
   "metadata": {},
   "source": [
    "et\n",
    "$$ (S_3)\\; x_{k+1} = x_k + h p_2      $$"
   ]
  },
  {
   "cell_type": "markdown",
   "metadata": {},
   "source": [
    "Programmation : \n",
    "--     \n",
    "Rédiger une fonction `eulerimplicite_explicite(f, x0, t0,T,N)` qui prend en paramètres la fonction $f$, la valeur initiale $x_0$, la valeur initiale de la subdivision $t_0$, la largeur de l'intervalle $[t_0,t_0+T]$, $T$, sur lequel $x$ est définie,  et $N$ le nombre de sous-intervalles de  $[t_0,t_0+T]$ .   Cette fonction doit retourner  la liste des valeurs $[x_0,x_1, ... ,x_n]$ calculées par le schéma numérique donné ci-dessus."
   ]
  },
  {
   "cell_type": "code",
   "execution_count": 21,
   "metadata": {},
   "outputs": [],
   "source": [
    "def eulerimplicite_explicite(f, x0, t0,T,N):\n",
    "    "
   ]
  },
  {
   "cell_type": "markdown",
   "metadata": {},
   "source": [
    "Exercie 2:\n",
    "-- \n",
    "Refaire l'exercice 1 avec la méthode `eulerimplicite_explicite`."
   ]
  },
  {
   "cell_type": "code",
   "execution_count": null,
   "metadata": {},
   "outputs": [],
   "source": [
    "N=100\n",
    "t=...........................\n",
    "EI=..........................\n",
    "plt.figure(figsize=(20, 10))\n",
    "plt.plot(...,...., 'b',....,...., 'r',linewidth=3)\n",
    "plt.title(\"solution de x'=-x\",fontsize=30)\n",
    "plt.legend(('Solution exacte','Méthode explicite issue de la méthode d\\'Euler implicite'),fontsize=30, loc='best')\n",
    "plt.xticks(fontsize=20)\n",
    "plt.yticks(fontsize=20)\n",
    "plt.show()"
   ]
  },
  {
   "cell_type": "code",
   "execution_count": null,
   "metadata": {},
   "outputs": [],
   "source": [
    "T = 10\n",
    "t0 = 0\n",
    "x0 = 1\n",
    "plt.figure(figsize=(20, 10))\n",
    "M = [10, 20, 50, 100]\n",
    "for N in M:\n",
    "    \n",
    "    \n",
    "    \n",
    "    \n",
    "    plt.plot(..., ...., '*--', linewidth=2, markersize=8, label='Solution approchée (Méthode d\\'Euler implicite, N='+str(N)+')')\n",
    "plt.plot(...,...., 'y', linewidth=4, markersize=8, label='Solution exacte')\n",
    "plt.title(\"Solution de l\\'équation : x'=-x\", fontsize=30)\n",
    "plt.legend()\n",
    "plt.xticks(fontsize=20)\n",
    "plt.yticks(fontsize=20)\n",
    "plt.show()"
   ]
  },
  {
   "cell_type": "markdown",
   "metadata": {},
   "source": [
    "# Exercice 3: Comparaion des deux méthodes"
   ]
  },
  {
   "cell_type": "markdown",
   "metadata": {},
   "source": [
    "- Dans la pratique, les méthodes d’Euler: implicite et  explicite  présentent des décalages importants de la solution exacte. Il est conseillé d'utiliser d'autre méthode de  résolution numériques plus rafinées telle que celle de Runge Kutta 4.\n",
    "- Sur un même graphique, donner les solutions numériques du problème $(E)$ avec les deux méthodes programmées.\n",
    "- Calculer les erreurs commises par les deux méthodes Euler Explicite et Euler implicite.\n"
   ]
  },
  {
   "cell_type": "code",
   "execution_count": null,
   "metadata": {},
   "outputs": [],
   "source": [
    "N=100\n",
    "t=np.linspace(t0, t0+T,N+1)\n",
    "EE = eulerexplicite(f, x0, t0, T, N)\n",
    "EI=eulerimplicite_explicite(f, x0, t0,T,N)\n",
    "plt.figure(figsize=(20, 10))\n",
    "plt.plot(...,...., 'b',...,..., 'r',...,..., 'g',linewidth=3)\n",
    "plt.legend(('Solution exacte','Méthode d\\'Euler Explicite','Méthode explicite issue de la méthode d\\'Euler implicite'),fontsize=30, loc='best')\n",
    "plt.xticks(fontsize=20)\n",
    "plt.yticks(fontsize=20)\n",
    "plt.show()"
   ]
  },
  {
   "cell_type": "code",
   "execution_count": null,
   "metadata": {},
   "outputs": [],
   "source": [
    "print(\"L'erreur commise par la méthode d'Euler Explicite est\",.............................)\n",
    "print(\"L'erreur commise par la méthode d'Euler Implicite est\",..............................)"
   ]
  },
  {
   "cell_type": "markdown",
   "metadata": {},
   "source": [
    "# Exercice 4"
   ]
  },
  {
   "cell_type": "markdown",
   "metadata": {},
   "source": [
    "- Pour l'équation `(E)`, tracer les  courbes d'erreurs des deux méthodes déja implémentées en fonction de $t$.  \n",
    "- Intérpreter le resultat."
   ]
  },
  {
   "cell_type": "code",
   "execution_count": null,
   "metadata": {},
   "outputs": [],
   "source": [
    "plt.figure(figsize=(20, 10))\n",
    "plt.plot(...,..........., 'm',....,...................,linewidth=3)\n",
    "plt.title(\"solution de x'=-x\",fontsize=30)\n",
    "plt.legend(('EE','EI'),fontsize=30, loc='best')\n",
    "plt.xticks(fontsize=20)\n",
    "plt.yticks(fontsize=20)\n",
    "#plt.yscale('log')\n",
    "plt.show()"
   ]
  },
  {
   "cell_type": "markdown",
   "metadata": {},
   "source": [
    "# Partie asynchrone"
   ]
  },
  {
   "cell_type": "markdown",
   "metadata": {},
   "source": [
    "# Application"
   ]
  },
  {
   "cell_type": "markdown",
   "metadata": {},
   "source": [
    "Considérons une tasse de café à la température\n",
    "de $75^{0}C$ dans une salle à $25^{0}C$. Aprés 5 minutes\n",
    "le café est à $50^{0}$C. Si on suppose que la\n",
    "vitesse de refroidissement du café est proportionnelle\n",
    "à la différence des températures (i.e.\n",
    "que la température du café suit la loi de Newton),\n",
    "cela signifie qu’il existe une constante\n",
    "$K < 0$ telle que la température T vérifie l’EDO\n",
    "du premier ordre suivante :"
   ]
  },
  {
   "cell_type": "markdown",
   "metadata": {},
   "source": [
    "$$T'(t) = K(T(t) − 25),$$"
   ]
  },
  {
   "cell_type": "markdown",
   "metadata": {},
   "source": [
    "le temps t est exprimé en minutes et la température T en degré Celsius."
   ]
  },
  {
   "cell_type": "markdown",
   "metadata": {},
   "source": [
    "# Travail demandé:"
   ]
  },
  {
   "cell_type": "markdown",
   "metadata": {},
   "source": [
    "1) Résoudre le probleme théoriquement.  \n"
   ]
  },
  {
   "cell_type": "markdown",
   "metadata": {},
   "source": [
    "- Sachant que $T(0) = 75^{0}C$, l’expression de la solution analytique est de la forme :\n",
    "$T(t) = 25 + 50e^{-\\frac{\\log(2)}{5}t}, \\quad t >0.$"
   ]
  },
  {
   "cell_type": "markdown",
   "metadata": {},
   "source": [
    "2) Utiliser les méthodes implémentées pour approcher numériquement cette solution. (Visualiser les solutions pour différents pas de discritisation.)"
   ]
  },
  {
   "cell_type": "code",
   "execution_count": 15,
   "metadata": {},
   "outputs": [],
   "source": []
  },
  {
   "cell_type": "code",
   "execution_count": 16,
   "metadata": {},
   "outputs": [],
   "source": []
  },
  {
   "cell_type": "code",
   "execution_count": 17,
   "metadata": {},
   "outputs": [],
   "source": []
  },
  {
   "cell_type": "code",
   "execution_count": null,
   "metadata": {},
   "outputs": [],
   "source": []
  },
  {
   "cell_type": "markdown",
   "metadata": {},
   "source": [
    "# Références  \n",
    "\n",
    "[1] [Kiusalaas, J. (2013). Numerical methods in engineering with Python 3. Cambridge university press.](https://books.google.tn/books?hl=fr&lr=&id=YlkgAwAAQBAJ&oi=fnd&pg=PP10&dq=numerical+methods+in+engineering+&ots=-42y60OrWf&sig=wxL2oISNUKKPlvgH4-tsYh1RK9o&redir_esc=y#v=onepage&q=numerical%20methods%20in%20engineering&f=false)  \n",
    "[2] [Numpy Package](https://numpy.org/devdocs/user/quickstart.html)  \n",
    "[3] [Mathplotlib Package](https://matplotlib.org/tutorials/index.html#introductory)  \n",
    "[4] [Jupyter markdowns](http://faccanoni.univ-tln.fr/user/enseignements/20182019/M62-CM1.pdf)  \n",
    "[5] [Sympy Package](https://www.sympy.org/en/index.html)"
   ]
  },
  {
   "cell_type": "code",
   "execution_count": null,
   "metadata": {},
   "outputs": [],
   "source": []
  }
 ],
 "metadata": {
  "kernelspec": {
   "display_name": "Python 3",
   "language": "python",
   "name": "python3"
  },
  "language_info": {
   "codemirror_mode": {
    "name": "ipython",
    "version": 3
   },
   "file_extension": ".py",
   "mimetype": "text/x-python",
   "name": "python",
   "nbconvert_exporter": "python",
   "pygments_lexer": "ipython3",
   "version": "3.8.3"
  }
 },
 "nbformat": 4,
 "nbformat_minor": 2
}
