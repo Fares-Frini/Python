{
 "cells": [
  {
   "cell_type": "markdown",
   "metadata": {
    "id": "6r5gAKX0J7Kt"
   },
   "source": [
    "# TP4: Résolution numérique de l'équation $f(x)=0$\n",
    "\n",
    "## Objectifs: \n",
    "L'objectif de ce TP est de :  \n",
    " \n",
    " - Implémenter les méthodes de dichotomie et de Newton pour calculer une approximation de la solution de l'équation $f(x)=0$.\n",
    " \n",
    " - Comparer les deux méthodes de résolution numérique.\n"
   ]
  },
  {
   "cell_type": "markdown",
   "metadata": {
    "id": "y4Pif8UjJ7K6"
   },
   "source": [
    "## 1) Méthode de Dichotomie :\n",
    "### Contexte du travail :\n",
    "\n",
    "On suppose que :  \n",
    "i. $f$ est continue sur $[a, b]$.  \n",
    "ii. $f(a).f(b)<0 $ sur l'intervalle $[a,b]$.  \n",
    "iii. $f$ est strictement monotone sur $[a, b]$.  \n",
    "Ces hypothèses suffisent à garantir que $f$ s’annule une seule fois sur $]a, b[$.  \n",
    "### Démarche :  \n",
    "Technique à répéter :   \n",
    "i. On divise l’intervalle $[a, b]$ en deux, et on ne garde que la section qui contient la solution.  \n",
    "Pour cela, on examine le signe de $f(\\displaystyle\\frac{a+b}{2})$.    \n",
    "Si $f(a)$ et $f(\\displaystyle\\frac{a+b}{2})$ sont de signes contraires, on se place alors sur $[a,\\displaystyle\\frac{a+b}{2}]$ sinon il faudra travailler sur $[\\displaystyle\\frac{a+b}{2},b]$.  \n",
    "ii. Puis on recommence.  \n",
    "### Condition d’arrêt :  \n",
    "Plusieurs conditions peuvent justifier l’arrêt des itérations décrites précédemment :  \n",
    "i. Lorsque la taille de notre intervalle de travail est « suffisamment petite » l’écart entre le milieu de cet intervalle et $x^*$, la solution exacte, est encore plus petit.  \n",
    "ii. Lorsqu’on estime que le nombre d’itérations est suffisant. Le dernier milieu calculé sera alors considéré comme une approximation de $x^*$.  \n",
    "\n",
    "### vitesse de convergence :  \n",
    "Comme, à chaque étape, la taille de l’intervalle de travail est divisée par 2, l’intervalle de recherche à la n-ième étape est de longueur $\\displaystyle\\frac{b − a}{2^{n}}$. Ainsi, le milieu de cet intervalle est alors distant de $x^*$ d’au plus $\\displaystyle\\frac{b − a}{2^{n}}$."
   ]
  },
  {
   "cell_type": "markdown",
   "metadata": {
    "id": "ycAhUzPyJ7K7"
   },
   "source": [
    "## Programmation:"
   ]
  },
  {
   "cell_type": "markdown",
   "metadata": {
    "id": "_gJgKp_jJ7K8"
   },
   "source": [
    " Écrire une fonction `dichotomie(f,a,b,epsilon,Nmax)` qui renvoie la valeur approchée du zéro $x^*$  d’une fonction $f$ continue, strictement monotone  sur  $[a, b]$, selon la méthode de dichotomie , et  renvoie aussi le nombre d'itérations. \n",
    " \n",
    "• Les arguments de la fonction `dichotomie` devront être: la fonction $f$, des réels $a$ et $b$, avec $a<b$, \n",
    "un réel $\\varepsilon > 0$ et $Nmax$ le nombre maximal d'itérations.  \n",
    "\n",
    "• Le résultat renvoyé doit être composé d'une valeur approchée de $x^*$ à $\\varepsilon$ près et le nombre d'itérations.  \n",
    "\n",
    "• On testera au préalable si $f(a)f(b) > 0$, et dans ce cas, on renverra $f(a)$ et $f(b)$ ne sont pas de même signe."
   ]
  },
  {
   "cell_type": "code",
   "execution_count": 1,
   "metadata": {
    "executionInfo": {
     "elapsed": 2393,
     "status": "ok",
     "timestamp": 1621237399933,
     "user": {
      "displayName": "Bilel Charfi",
      "photoUrl": "https://lh3.googleusercontent.com/a-/AOh14GiwZ0IqhBxzHZ-ghqODbdAGcqAm32dDwZNnRvMz=s64",
      "userId": "09763497550800656523"
     },
     "user_tz": -60
    },
    "id": "UDpuUWZwJ7K9"
   },
   "outputs": [],
   "source": [
    "import numpy as np\n",
    "import matplotlib.pyplot as plt\n",
    "import sympy as sp"
   ]
  },
  {
   "cell_type": "code",
   "execution_count": 2,
   "metadata": {
    "executionInfo": {
     "elapsed": 930,
     "status": "ok",
     "timestamp": 1621237404085,
     "user": {
      "displayName": "Bilel Charfi",
      "photoUrl": "https://lh3.googleusercontent.com/a-/AOh14GiwZ0IqhBxzHZ-ghqODbdAGcqAm32dDwZNnRvMz=s64",
      "userId": "09763497550800656523"
     },
     "user_tz": -60
    },
    "id": "HafI5OqcJ7K9"
   },
   "outputs": [],
   "source": [
    "def dichotomie(f,a,b,epsilon,Nmax):\n",
    "    k=0\n",
    "    if f(a)*f(b)>0:\n",
    "        print(\"f(a) et f(b) sont de même signe\") \n",
    "    else:\n",
    "        while (b-a>epsilon) and (k<= Nmax):\n",
    "            c=(a+b)/2 \n",
    "            if f(a)*f(c)<0:\n",
    "                b=c \n",
    "               \n",
    "            elif f(c)==0:\n",
    "                a=c\n",
    "                b=c\n",
    "            else:\n",
    "                a=c\n",
    "            k+=1 \n",
    "        return ((a+b)/2,k)\n",
    "            \n",
    "        \n"
   ]
  },
  {
   "cell_type": "markdown",
   "metadata": {
    "id": "8n-wYf6-J7K_"
   },
   "source": [
    "***Application 1 :***  \n",
    "\n",
    "Tester la fonction `dichotomie(f,a,b,epsilon,Nmax)` pour :\n",
    "$a=1, b=2, \\varepsilon=10^{-5}, f(x)=x^{2}-2$ et $Nmax=20$.\n",
    "\n"
   ]
  },
  {
   "cell_type": "code",
   "execution_count": 3,
   "metadata": {
    "colab": {
     "base_uri": "https://localhost:8080/"
    },
    "executionInfo": {
     "elapsed": 561,
     "status": "ok",
     "timestamp": 1621237412063,
     "user": {
      "displayName": "Bilel Charfi",
      "photoUrl": "https://lh3.googleusercontent.com/a-/AOh14GiwZ0IqhBxzHZ-ghqODbdAGcqAm32dDwZNnRvMz=s64",
      "userId": "09763497550800656523"
     },
     "user_tz": -60
    },
    "id": "pxK27QWxJ7K_",
    "outputId": "b4f3d0cd-1582-488b-80e2-40e7ddd84b8e"
   },
   "outputs": [
    {
     "data": {
      "text/plain": [
       "(1.4142112731933594, 17)"
      ]
     },
     "execution_count": 3,
     "metadata": {},
     "output_type": "execute_result"
    }
   ],
   "source": [
    "a=1\n",
    "b=2\n",
    "epsilon=10**-5\n",
    "Nmax=20\n",
    "f =lambda x : x**2-2\n",
    "dichotomie(f,a,b,epsilon,Nmax)\n"
   ]
  },
  {
   "cell_type": "markdown",
   "metadata": {
    "id": "hkDiJlJiJ7LB"
   },
   "source": [
    "***Remarque : La fonction dichotomie est déjà implémentée sous Python par la fonction bisect du module\n",
    "scipy.optimize.***"
   ]
  },
  {
   "cell_type": "markdown",
   "metadata": {
    "id": "GwaplurFJ7LC"
   },
   "source": [
    "# 2) Méthode de Newton :\n"
   ]
  },
  {
   "cell_type": "markdown",
   "metadata": {
    "id": "wh-zO02aJ7LC"
   },
   "source": [
    "## Théorème :\n",
    "Soit $f:[a,b]\\rightarrow \\mathbb{R}$ une fonction de classe $\\mathcal{C}^2$ sur $[a,b]$ et vérifiant :\n",
    "\n",
    "$1.\\quad f(a).f(b)<0$.\n",
    "\n",
    "$2.\\quad f^{\\prime}(x)\\neq 0, \\quad \\forall x\\in [a,b]$.\n",
    "\n",
    "$3. \\quad f^{\\prime \\prime}(x)\\neq 0, \\quad \\forall x\\in [a,b]$.\n",
    "\n",
    "Alors pour tout $ x_{0} \\in [a,b]$ vérifiant   $ f(x_{0}).f^{\\prime \\prime}(x_{0}) > 0 $, la suite $(x_{n})_{n\\geq 0}$ définie par :\n",
    "\n",
    "$$ x_{n+1}=x_{n}-\\frac{f(x_{n})}{f^{\\prime}(x_{n})}$$\n",
    "\n",
    "converge vers la solution $x^*$ de l'équation $f(x)=0$.\n"
   ]
  },
  {
   "cell_type": "markdown",
   "metadata": {
    "id": "Ez6P70gwJ7LD"
   },
   "source": [
    "## Interprétation géometrique : \n",
    "On considère une fonction $f$ vérifiant les hypothèses du théorème ci-dessus et l'equation \n",
    "$$f(x)=0, \\quad \\forall x\\in [a,b].$$  \n",
    "#### La méthode consiste à prendre une valeur initiale $x_{0}\\in[a,b]$, et construire une suite récurrente $(x_n)_{n\\geq0}$ qui converge vers la solution de l'équation $x^*$.\n",
    "$x_{n+1}$ est l'abscisse du point d'intersection de la tangente $T_{(x_{n},f(x_{n}))}$ à la courbe de $f$ au point d'abscisse $x_{n}$ et l'axe des abscisses $\\Delta:y=0$.\n",
    "\n",
    "$$M(x_{n+1},0) \\in (\\Delta:y=0)\\cap T_{(x_{n},f(x_{n}))}$$\n"
   ]
  },
  {
   "cell_type": "markdown",
   "metadata": {
    "id": "oC-7S2vtJ7LE"
   },
   "source": [
    "## Condition de convergence :\n",
    "Une fois construite, la suite $(x_n)$ convergente vers $x^*$, on considère une tolérance $\\varepsilon$ fixée et on désire déterminer une valeur approchée de $x^*$ avec la tolérance $\\varepsilon$.\n",
    "\n",
    "On définit l'erreur absolue à l'étape $k$ par:\n",
    "$$e_k=|x_k-x^*|$$ \n",
    "\n",
    "Pour avoir une valeur approchée de $x^*$ à $\\varepsilon$ près on s'arrête à l'itération $k$ dès que:\n",
    "$$|x_{k+1}-x_{k}|<\\varepsilon $$\n",
    "\n",
    "Il existe aussi d'autres critères d'arrêt et on cite comme exemple:\n",
    "$$|f(x_{k})| \\leq \\varepsilon,\\qquad. $$\n"
   ]
  },
  {
   "cell_type": "markdown",
   "metadata": {
    "id": "-MDGoSH7J7LF"
   },
   "source": [
    "## Programmation :  \n",
    "**Dérivation analytique d'une fonction sous la module `sumpy`** \n",
    "\n",
    "Avant de programmer l'algorithme de Newton, nous expliquons, à travers les lignes de codes ci-dessous, comment dériver une fonction `f` analytiquement sous le module `sympy`. Pour ce faire, nous utilisons comme exemple la fonction $\\displaystyle f(x)=e^{-x}-x$.\n"
   ]
  },
  {
   "cell_type": "code",
   "execution_count": 4,
   "metadata": {
    "colab": {
     "base_uri": "https://localhost:8080/"
    },
    "executionInfo": {
     "elapsed": 1047,
     "status": "ok",
     "timestamp": 1621237430524,
     "user": {
      "displayName": "Bilel Charfi",
      "photoUrl": "https://lh3.googleusercontent.com/a-/AOh14GiwZ0IqhBxzHZ-ghqODbdAGcqAm32dDwZNnRvMz=s64",
      "userId": "09763497550800656523"
     },
     "user_tz": -60
    },
    "id": "M5sp0tz7J7LF",
    "outputId": "9944c381-a7dd-4b6e-c96b-a96aaf54fd6a"
   },
   "outputs": [
    {
     "name": "stdout",
     "output_type": "stream",
     "text": [
      "l'expression symbolique de f(2) est f(2)= -2 + exp(-2)\n",
      "la valeur numérique de f(2) est f(2)= -1.86466471676339\n",
      "l'expression symbolique de f'(2) est f'(2)= -1 - exp(-2)\n",
      "la valeur numérique de f'(2) est f'(2)= -1.13533528323661\n"
     ]
    }
   ],
   "source": [
    "x=sp.symbols('x') # la variable symbolique\n",
    "f=sp.Lambda(x,sp.exp(-x)-x) # expression symbolique de f : la fonction f en fonction de x\n",
    "df=sp.Lambda(x,sp.diff(f(x),x)) # expression symbolique de f' : la fonction dérivée en fonction de x\n",
    "# Evaluer f et df au point 2\n",
    "print('l\\'expression symbolique de f(2) est f(2)=', f(2))\n",
    "print('la valeur numérique de f(2) est f(2)=', f(2).evalf())\n",
    "print('l\\'expression symbolique de f\\'(2) est f\\'(2)=', df(2))\n",
    "print('la valeur numérique de f\\'(2) est f\\'(2)=', df(2).evalf())"
   ]
  },
  {
   "cell_type": "markdown",
   "metadata": {
    "id": "fCitALWEJ7LG"
   },
   "source": [
    "**Méthode de Newton**  \n",
    "\n",
    "Ecrire une fonction `Newton(x,f,df,epsilon, Nmax)` qui renvoie :   \n",
    "1. la valeur approchée de la solution $x^*$ de $f$ à une tolérance `epsilon` près.\n",
    "2. le nombre d'itérations effectué $k$ pour atteindre la convergence.  \n",
    "\n",
    "\n",
    "On arrêtera l'algorithme après un nombre maximal d'itérations `Nmax`. L'argument `df` désigne la dérivée analytique de `f`.\n",
    "\n"
   ]
  },
  {
   "cell_type": "code",
   "execution_count": 5,
   "metadata": {
    "executionInfo": {
     "elapsed": 503,
     "status": "ok",
     "timestamp": 1621237433820,
     "user": {
      "displayName": "Bilel Charfi",
      "photoUrl": "https://lh3.googleusercontent.com/a-/AOh14GiwZ0IqhBxzHZ-ghqODbdAGcqAm32dDwZNnRvMz=s64",
      "userId": "09763497550800656523"
     },
     "user_tz": -60
    },
    "id": "CEEi_CdTJ7LH"
   },
   "outputs": [],
   "source": [
    "def Newton(x,f,df,epsilon,Nmax):\n",
    "    R=[abs(f(x)/df(x)).evalf()]\n",
    "    n=1\n",
    "    while (R[-1]>epsilon and n<Nmax):\n",
    "        n+=1\n",
    "        x=x-(f(x)/df(x))\n",
    "        R.append(abs(f(x)/df(x)).evalf())\n",
    "    return x.evalf(),n"
   ]
  },
  {
   "cell_type": "markdown",
   "metadata": {
    "id": "RyJZYt8CJ7LH"
   },
   "source": [
    "***Application 2 :***  \n",
    "\n",
    " Tester la fonction `Newton(x,f,df,epsilon,Nmax)` pour :\n",
    "$a=1, b=2, \\varepsilon=10^{-5}, f(x)=x^{2}-2$ et $Nmax=20$.  \n",
    "Choisir un $x_0$ garantissant la convergence de la méthode de Newton.\n",
    "\n"
   ]
  },
  {
   "cell_type": "code",
   "execution_count": 6,
   "metadata": {
    "colab": {
     "base_uri": "https://localhost:8080/"
    },
    "executionInfo": {
     "elapsed": 506,
     "status": "ok",
     "timestamp": 1621237455390,
     "user": {
      "displayName": "Bilel Charfi",
      "photoUrl": "https://lh3.googleusercontent.com/a-/AOh14GiwZ0IqhBxzHZ-ghqODbdAGcqAm32dDwZNnRvMz=s64",
      "userId": "09763497550800656523"
     },
     "user_tz": -60
    },
    "id": "AvZ4IpZOJ7LI",
    "outputId": "33a03fe1-d833-4b53-8be9-a1959d55bdac"
   },
   "outputs": [
    {
     "data": {
      "text/plain": [
       "(1.41421568627451, 3)"
      ]
     },
     "execution_count": 6,
     "metadata": {},
     "output_type": "execute_result"
    }
   ],
   "source": [
    "a=1\n",
    "b=2\n",
    "epsilon=10**(-5)\n",
    "x=sp.symbols('x')\n",
    "f=sp.Lambda(x,x**2-2)\n",
    "df=sp.Lambda(x,sp.diff(f(x),x))\n",
    "Nmax=20\n",
    "Newton(3/2,f,df,epsilon,Nmax)"
   ]
  },
  {
   "cell_type": "markdown",
   "metadata": {
    "id": "5iH0cwFKJ7LJ"
   },
   "source": [
    "## Comparaison des deux méthodes:\n",
    "\n",
    "Le but de cette partie est de comparer les deux méthodes de résolution de $f(x)=0$ : dichotomie et Newton, en terme de nombre d'itérations effectuées, pour approcher la solution $x^*$ de la fonction $f(x)=cos(2x)-x^2$ sur l'intervalle $\\displaystyle [0,\\frac{\\pi}{4}]$.  \n",
    "\n",
    "1. Représenter la fonction $f$ sur $\\displaystyle [0,\\frac{\\pi}{4}]$ et vérifier graphiquement l'unicité de la racine $x^*$ sur cet intervalle. Déduire graphiquement le signe de $f'$ et $f''$, respectivement, la dérivée première et seconde de $f$.  \n",
    "\n",
    "2. Pour $Nmax=10^3$, et $\\varepsilon\\in\\{10^{-n},\\;2\\leq n\\leq 8\\} $, représenter l'évolution du nombre d'itérations effectuées, par les deux méthodes, pour approcher $x^*$, en fonction de la valeur de la précision $\\varepsilon$. Faire une lecture graphique des résultats obtenus.\n"
   ]
  },
  {
   "cell_type": "markdown",
   "metadata": {
    "id": "RVsvRzN9J7LJ"
   },
   "source": [
    "*Question 1 :*"
   ]
  },
  {
   "cell_type": "code",
   "execution_count": 7,
   "metadata": {
    "id": "EQXyXmZLJ7LK"
   },
   "outputs": [
    {
     "data": {
      "text/plain": [
       "array([1.e-02, 1.e-03, 1.e-04, 1.e-05, 1.e-06, 1.e-07, 1.e-08])"
      ]
     },
     "execution_count": 7,
     "metadata": {},
     "output_type": "execute_result"
    }
   ],
   "source": [
    "Nmax=10**3\n",
    "a=0\n",
    "b=np.pi/4\n",
    "epsilon=1/10**np.arange(2,9)\n",
    "x0=np.pi/4\n",
    "x=sp.symbols('x')\n",
    "f=sp.Lambda(x,sp.cos(2*x)-x**2)\n",
    "df=sp.Lambda(x,sp.diff(f(x),x))\n",
    "It_D=[]\n",
    "It_N=[]\n",
    "for eps in epsilon:\n",
    "    It_D.append(dichotomie(f,a,b,eps,Nmax)[1])#nbre d'itération pour avoir la solution à epsilon prés \n",
    "    It_N.append(Newton(x0,f,df,eps,Nmax)[1])\n",
    "    \n",
    "epsilon    "
   ]
  },
  {
   "cell_type": "markdown",
   "metadata": {
    "id": "ePkzNX4JJ7LK"
   },
   "source": [
    "*Question 2 :*"
   ]
  },
  {
   "cell_type": "code",
   "execution_count": 8,
   "metadata": {
    "colab": {
     "base_uri": "https://localhost:8080/",
     "height": 657
    },
    "id": "0T0MOrQvJ7LL",
    "outputId": "ad7c3b7a-65fd-4a10-d913-13893c14a1ce"
   },
   "outputs": [
    {
     "data": {
      "image/png": "[encoded data removed]",
      "text/plain": [
       "<Figure size 1440x720 with 1 Axes>"
      ]
     },
     "metadata": {
      "needs_background": "light"
     },
     "output_type": "display_data"
    }
   ],
   "source": [
    "plt.figure(figsize=(20,10))\n",
    "plt.plot(epsilon,It_N,'bo-',epsilon,It_D,'r*-',markersize=12,linewidth=2)\n",
    "plt.xscale('log')#axis scaling \n",
    "plt.grid(True)\n",
    "plt.ylabel('Nombre d\\'itération',fontsize=30)\n",
    "plt.xlabel('Précision',fontsize=20)\n",
    "plt.xticks(fontsize=20)\n",
    "plt.yticks(fontsize=20)\n",
    "plt.title(\"Nombre d\\'itération versus précision\", fontsize=30, color='blue')\n",
    "plt.legend(('Newton','Dichotomie'), loc=0, fontsize=30)\n",
    "plt.show()"
   ]
  },
  {
   "cell_type": "markdown",
   "metadata": {
    "id": "Y54KiwPPJ7LM"
   },
   "source": [
    "## Application (Asynchrone):"
   ]
  },
  {
   "cell_type": "markdown",
   "metadata": {
    "id": "y4w9ZMjhJ7LM"
   },
   "source": [
    "Le client d'une banque dépose au début de chaque année $v$ euros dans un fond d'investisement et en retire, à la fin de la n-ème année, un capital de M euros. Nous voulons calculer le taux d'interet annuel moyen $T$ de cet investisement.  Comme $M$ est reliée à $T$ par la relation suivante :\n",
    "$$ M= v\\displaystyle\\sum_{k=1}^{k=n}(1+T)^{k}=v\\displaystyle\\frac{1+T}{T}[(1+T)^{n}-1],$$\n",
    "nous déduisons que $T$ est une racine de l'équation $f(T)=0$ où  $f(T)=M-v\\displaystyle\\frac{1+T}{T}[(1+T)^{n}-1].$   \n",
    "En supposant que $v=1000$ euros et qu'après $5$ ans $M$ sera égal à $6000$ euro,\n",
    "1. Tracer le graphe de la fonction $f$ dans $[0.01,0.3]$.  \n",
    "2. Déterminer le taux d'interet $T$ par les deux méthodes programmées dans ce TP.\n",
    "\n",
    " "
   ]
  },
  {
   "cell_type": "code",
   "execution_count": 9,
   "metadata": {},
   "outputs": [
    {
     "data": {
      "image/png": "[encoded data removed]",
      "text/plain": [
       "<Figure size 1440x720 with 1 Axes>"
      ]
     },
     "metadata": {
      "needs_background": "light"
     },
     "output_type": "display_data"
    }
   ],
   "source": [
    "f=lambda x:6000 -1000* ((1+x)/x ) * ((1+x)**5-1)\n",
    "x=np.linspace(0.01,0.3,100)\n",
    "plt.figure(figsize=(20,10))\n",
    "plt.plot(x,f(x),'r-',markersize=12,linewidth=2)\n",
    "plt.grid(True)\n",
    "plt.xlabel('taux annuel',fontsize=20)\n",
    "plt.ylabel('capital',fontsize=30)\n",
    "plt.xticks(fontsize=20)\n",
    "plt.yticks(fontsize=20)\n",
    "plt.show()"
   ]
  },
  {
   "cell_type": "code",
   "execution_count": 10,
   "metadata": {},
   "outputs": [
    {
     "name": "stdout",
     "output_type": "stream",
     "text": [
      "(0.05984375, 5)\n"
     ]
    }
   ],
   "source": [
    "a=0.01\n",
    "b=0.3\n",
    "epsilon=0.01\n",
    "Nmax=20\n",
    "print(dichotomie(f,a,b,epsilon,Nmax))"
   ]
  },
  {
   "cell_type": "markdown",
   "metadata": {
    "id": "BOBexdilJ7LN"
   },
   "source": [
    "# Références  \n",
    "\n",
    "[1] [Kiusalaas, J. (2013). Numerical methods in engineering with Python 3. Cambridge university press.](https://books.google.tn/books?hl=fr&lr=&id=YlkgAwAAQBAJ&oi=fnd&pg=PP10&dq=numerical+methods+in+engineering+&ots=-42y60OrWf&sig=wxL2oISNUKKPlvgH4-tsYh1RK9o&redir_esc=y#v=onepage&q=numerical%20methods%20in%20engineering&f=false)  \n",
    "[2] [Numpy Package](https://numpy.org/devdocs/user/quickstart.html)  \n",
    "[3] [Mathplotlib Package](https://matplotlib.org/tutorials/index.html#introductory)  \n",
    "[4] [Jupyter markdowns](http://faccanoni.univ-tln.fr/user/enseignements/20182019/M62-CM1.pdf)  \n",
    "[5] [Sympy Package](https://www.sympy.org/en/index.html)"
   ]
  },
  {
   "cell_type": "code",
   "execution_count": null,
   "metadata": {},
   "outputs": [],
   "source": []
  }
 ],
 "metadata": {
  "colab": {
   "name": "Corrigé_Calcul_Scientifique_TP5_Equation_non_linéaire_f(x)=0 .ipynb",
   "provenance": []
  },
  "kernelspec": {
   "display_name": "Python 3.6.9 64-bit",
   "language": "python",
   "name": "python3"
  },
  "language_info": {
   "codemirror_mode": {
    "name": "ipython",
    "version": 3
   },
   "file_extension": ".py",
   "mimetype": "text/x-python",
   "name": "python",
   "nbconvert_exporter": "python",
   "pygments_lexer": "ipython3",
   "version": "3.6.9 (default, Nov 25 2022, 14:10:45) \n[GCC 8.4.0]"
  },
  "vscode": {
   "interpreter": {
    "hash": "31f2aee4e71d21fbe5cf8b01ff0e069b9275f58929596ceb00d14d90e3e16cd6"
   }
  }
 },
 "nbformat": 4,
 "nbformat_minor": 4
}
